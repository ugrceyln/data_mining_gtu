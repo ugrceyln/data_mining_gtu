{
 "cells": [
  {
   "cell_type": "code",
   "execution_count": 1,
   "metadata": {},
   "outputs": [
    {
     "name": "stdout",
     "output_type": "stream",
     "text": [
      "_________________________\n",
      "[0.09821728693702184, 0.09821728693702184, 0.09821728693702184, 0.09821728693702184, 0.09821728693702184, 0.09821728693702184, 0.09821728693702184, 0.09821728693702184, 0.09821728693702184, 0.09821728693702184, 0.09821728693702184, 0.13197947932162468, 0.13197947932162468, 0.13197947932162468, 0.13197947932162468, 0.13197947932162468, 0.13197947932162468, 0.13197947932162468, 0.13197947932162468, 0.13197947932162468, 0.13197947932162468, 0.13197947932162468, 0.13197947932162468, 0.13197947932162468, 0.13197947932162468, 0.13197947932162468, 0.13197947932162468, 0.13197947932162468, 0.13197947932162468, 0.13197947932162468, 0.13197947932162468, 0.13197947932162468, 0.13197947932162468, 0.13197947932162468, 0.13197947932162468, 0.13197947932162468, 0.13197947932162468, 0.32841405319566835, 0.32841405319566835, 0.32841405319566835, 0.32841405319566835, 0.32841405319566835, 0.32841405319566835, 0.32841405319566835, 0.32841405319566835, 0.32841405319566835, 0.32841405319566835, 0.32841405319566835, 0.32841405319566835, 0.32841405319566835, 0.3621762455802712, 0.3621762455802712, 0.3621762455802712, 0.3621762455802712, 0.3621762455802712, 0.3621762455802712, 0.3621762455802712, 0.3621762455802712, 0.3621762455802712, 0.3621762455802712, 0.5586108194543139, 0.5586108194543139, 0.5586108194543139, 0.5586108194543139, 0.5586108194543139, 0.5586108194543139, 0.5923730118389178, 0.5923730118389178, 0.5923730118389178, 0.5923730118389178, 0.5923730118389178, 0.5923730118389178, 0.5923730118389178, 0.5923730118389178, 0.5923730118389178, 0.5923730118389178, 0.5923730118389178, 0.5923730118389178, 0.5923730118389178, 0.5923730118389178, 0.7888075857129604, 0.7888075857129604, 0.7888075857129604, 0.7888075857129604, 0.7888075857129604, 0.7888075857129604, 0.7888075857129604, 0.7888075857129604, 0.7888075857129604, 0.7888075857129604, 0.7888075857129604, 0.7888075857129604, 0.8225697780975633, 0.8225697780975633, 0.8225697780975633, 0.8225697780975633, 0.8225697780975633, 0.8225697780975633, 0.8225697780975633, 0.8225697780975633, 0.8225697780975633, 1.019004351971607, 1.019004351971607, 1.019004351971607, 1.019004351971607, 1.019004351971607, 1.019004351971607, 1.0527665443562098, 1.0527665443562098, 1.0527665443562098, 1.0527665443562098, 1.0527665443562098, 1.2492011182302534, 1.2492011182302534, 1.2492011182302534, 1.2492011182302534, 1.2829633106148564, 1.2829633106148564, 1.2829633106148564, 1.2829633106148564, 1.2829633106148564, 1.2829633106148564, 1.2829633106148564, 1.2829633106148564, 1.4793978844889, 1.4793978844889, 1.4793978844889, 1.513160076873503, 1.513160076873503, 1.513160076873503, 1.7095946507475455, 1.7095946507475455, 1.7095946507475455, 1.7095946507475455, 1.7095946507475455, 1.7095946507475455, 1.7433568431321493, 1.7433568431321493, 1.7433568431321493, 1.7433568431321493, 1.939791417006192, 1.939791417006192, 1.9735536093907948, 1.9735536093907948, 1.9735536093907948, 2.1699881832648384, 2.400184949523484, 2.433947141908088, 2.6303817157821316, 3.090775248299425]\n",
      "-------------------------\n",
      "(array([15], dtype=int64),) 4.4\n",
      "_________________________\n",
      "[2.0, 2.2, 2.2, 2.2, 2.3, 2.3, 2.3, 2.3, 2.4, 2.4, 2.4, 2.5, 2.5, 2.5, 2.5, 2.5, 2.5, 2.5, 2.5, 2.6, 2.6, 2.6, 2.6, 2.6, 2.7, 2.7, 2.7, 2.7, 2.7, 2.7, 2.7, 2.7, 2.7, 2.8, 2.8, 2.8, 2.8, 2.8, 2.8, 2.8, 2.8, 2.8, 2.8, 2.8, 2.8, 2.8, 2.8, 2.9, 2.9, 2.9, 2.9, 2.9, 2.9, 2.9, 2.9, 2.9, 2.9, 3.0, 3.0, 3.0, 3.0, 3.0, 3.0, 3.0, 3.0, 3.0, 3.0, 3.0, 3.0, 3.0, 3.0, 3.0, 3.0, 3.0, 3.0, 3.0, 3.0, 3.0, 3.0, 3.0, 3.0, 3.0, 3.0, 3.1, 3.1, 3.1, 3.1, 3.1, 3.1, 3.1, 3.1, 3.1, 3.1, 3.1, 3.2, 3.2, 3.2, 3.2, 3.2, 3.2, 3.2, 3.2, 3.2, 3.2, 3.2, 3.2, 3.2, 3.3, 3.3, 3.3, 3.3, 3.3, 3.3, 3.4, 3.4, 3.4, 3.4, 3.4, 3.4, 3.4, 3.4, 3.4, 3.4, 3.4, 3.4, 3.5, 3.5, 3.5, 3.5, 3.5, 3.5, 3.6, 3.6, 3.6, 3.6, 3.7, 3.7, 3.7, 3.8, 3.8, 3.8, 3.8, 3.8, 3.8, 3.9, 3.9, 4.0, 4.1, 4.2, 4.4]\n",
      "-------------------------\n",
      "[4.4]\n",
      "q1, q3:  2.8 3.3\n",
      "lower_bound, upper_bound:  -1.3999999999999995 8.25\n",
      "outliers:  []\n",
      "q1, q3:  2.8 3.3\n",
      "lower_bound, upper_bound:  2.0999999999999996 4.125\n",
      "outliers:  [4.4, 4.2, 2.0]\n"
     ]
    },
    {
     "data": {
      "image/png": "[encoded data removed]",
      "text/plain": [
       "<Figure size 432x288 with 1 Axes>"
      ]
     },
     "metadata": {
      "needs_background": "light"
     },
     "output_type": "display_data"
    }
   ],
   "source": [
    "\n",
    "\n",
    "#%%\n",
    "\n",
    "\n",
    "\n",
    "threshold = 3\n",
    "point_outliers = np.where(z > threshold)\n",
    "#%%\n",
    "print(\"_________________________\")\n",
    "print(sorted(z))\n",
    "print(\"-------------------------\")\n",
    "print(point_outliers, data_.iloc[15])\n",
    "\n",
    "#%%\n",
    "\n",
    "outliers=[]\n",
    "def detect_outlier(data_1):\n",
    "    \n",
    "    threshold=3\n",
    "    mean_1 = np.mean(data_1)\n",
    "    std_1 =np.std(data_1)\n",
    "    \n",
    "    \n",
    "    for y in data_1:\n",
    "        z_score= (y - mean_1)/std_1 \n",
    "        if np.abs(z_score) > threshold:\n",
    "            outliers.append(y)\n",
    "            \n",
    "    return outliers\n",
    "\n",
    "outlier_datapoints = detect_outlier(data_)\n",
    "\n",
    "#%%\n",
    "print(\"_________________________\")\n",
    "print(sorted(data_))\n",
    "print(\"-------------------------\")\n",
    "print(outlier_datapoints)\n",
    "\n",
    "#%%\n",
    "\n",
    "\"\"\"\n",
    "A box-and-whisker plot uses quartiles (points that divide the data into four groups of equal size) to plot the shape of the data. The box represents the 1st and 3rd quartiles, which are equal to the 25th and 75th percentiles. The line inside the box represents the 2nd quartile, which is the median.\n",
    "\n",
    "The interquartile range, which gives this method of outlier detection its name, is the range between the first and the third quartiles (the edges of the box). Tukey considered any data point that fell outside of either 1.5 times the IQR below the first – or 1.5 times the IQR above the third – quartile to be “outside” or “far out”. In a classic box-and-whisker plot, the ‘whiskers’ extend up to the last data point that is not “outside”.\n",
    "\n",
    "\"\"\"\n",
    "q1, q3= np.percentile(data_,[25,75])\n",
    "iqr = q3 - q1\n",
    "\n",
    "lower_bound = q1 - (1.5 * q1)\n",
    "upper_bound = q3 + (1.5 * q3)\n",
    "\n",
    "\n",
    "outliers = [x for x in list(data_) if x < lower_bound or x > upper_bound]\n",
    "\n",
    "print(\"q1, q3: \", q1, q3)\n",
    "print(\"lower_bound, upper_bound: \", lower_bound, upper_bound)\n",
    "print(\"outliers: \", outliers)\n",
    "##################################\n",
    "lower_bound = q1 - (0.25 * q1)\n",
    "upper_bound = q3 + (0.25 * q3)\n",
    "\n",
    "outliers = [x for x in list(data_) if x < lower_bound or x > upper_bound]\n",
    "\n",
    "print(\"q1, q3: \", q1, q3)\n",
    "print(\"lower_bound, upper_bound: \", lower_bound, upper_bound)\n",
    "print(\"outliers: \", outliers)\n",
    "\n",
    "#%%\n",
    "\n",
    "\n",
    "\n"
   ]
  },
  {
   "cell_type": "code",
   "execution_count": 2,
   "metadata": {},
   "outputs": [
    {
     "data": {
      "text/plain": [
       "[<matplotlib.lines.Line2D at 0x1e717e54ac8>]"
      ]
     },
     "execution_count": 2,
     "metadata": {},
     "output_type": "execute_result"
    },
    {
     "data": {
      "image/png": "[encoded data removed]",
      "text/plain": [
       "<Figure size 432x288 with 1 Axes>"
      ]
     },
     "metadata": {
      "needs_background": "light"
     },
     "output_type": "display_data"
    }
   ],
   "source": [
    "# -*- coding: utf-8 -*-\n",
    "\"\"\"\n",
    "Created on Tue Dec 24 12:24:38 2019\n",
    "\n",
    "@author: ugur.ceylan\n",
    "\"\"\"\n",
    "\n",
    "\n",
    "# -*- coding: utf-8 -*-\n",
    "\"\"\"\n",
    "Spyder Editor\n",
    "\n",
    "This is a temporary script file.\n",
    "\"\"\"\n",
    "import matplotlib.pyplot as plt\n",
    "import pandas as pd\n",
    "import seaborn as sns\n",
    "data = pd.read_csv(\"datasets/iris.csv\")\n",
    "data.drop(columns=[\"variety\"], axis=1, inplace=True)\n",
    "\n",
    "#%%\n",
    "columns = data.columns\n",
    "data_ = data[columns[1]] \n",
    "\n",
    "#%%\n",
    "\n",
    "y = data_   \n",
    "x = list(range(0, len(y)))\n",
    "plt.plot(x, y, '.', color='lime')\n"
   ]
  },
  {
   "cell_type": "code",
   "execution_count": 3,
   "metadata": {},
   "outputs": [
    {
     "data": {
      "image/png": "[encoded data removed]",
      "text/plain": [
       "<Figure size 432x288 with 1 Axes>"
      ]
     },
     "metadata": {
      "needs_background": "light"
     },
     "output_type": "display_data"
    }
   ],
   "source": [
    "import numpy as np\n",
    "sns.boxplot(x=data_)\n",
    "\n",
    "#%%\n",
    "\n",
    "# We will use Z-score function defined in scipy library to detect the outliers\n",
    "from scipy import stats\n",
    "import numpy as np\n",
    "z = np.abs(stats.zscore(data_))"
   ]
  }
 ],
 "metadata": {
  "kernelspec": {
   "display_name": "Python 3 (ipykernel)",
   "language": "python",
   "name": "python3"
  },
  "language_info": {
   "codemirror_mode": {
    "name": "ipython",
    "version": 3
   },
   "file_extension": ".py",
   "mimetype": "text/x-python",
   "name": "python",
   "nbconvert_exporter": "python",
   "pygments_lexer": "ipython3",
   "version": "3.8.16"
  }
 },
 "nbformat": 4,
 "nbformat_minor": 2
}
