{
 "cells": [
  {
   "cell_type": "markdown",
   "metadata": {},
   "source": [
    "<img src='images/2_1.PNG'>\n",
    "<img src='images/2_2.PNG'>\n",
    "<img src='images/2_3.PNG'>\n",
    "<img src='images/2_4.PNG'>\n",
    "<img src='images/2_5.PNG'>\n",
    "<img src='images/2_6.PNG'>\n",
    "<img src='images/2_7.PNG'>\n",
    "<img src='images/2_8.PNG'>\n",
    "<img src='images/2_9.PNG'>\n",
    "<img src='images/2_10.PNG'>\n",
    "\n",
    "<img src='images/2_11.PNG'>\n",
    "<img src='images/2_12.PNG'>\n",
    "<img src='images/2_13.PNG'>\n",
    "<img src='images/2_14.PNG'>\n",
    "<img src='images/2_15.PNG'>\n",
    "<img src='images/2_16.PNG'>\n",
    "<img src='images/2_17.PNG'>\n",
    "<img src='images/2_18.PNG'>\n",
    "<img src='images/2_19.PNG'>\n",
    "<img src='images/2_20.PNG'>\n",
    "\n",
    "<img src='images/2_21.PNG'>\n",
    "<img src='images/2_22.PNG'>\n",
    "<img src='images/2_23.PNG'>\n",
    "<img src='images/2_24.PNG'>\n",
    "<img src='images/2_25.PNG'>\n",
    "<img src='images/2_26.PNG'>\n",
    "<img src='images/2_27.PNG'>\n",
    "<img src='images/2_28.PNG'>"
   ]
  },
  {
   "cell_type": "code",
   "execution_count": null,
   "metadata": {},
   "outputs": [],
   "source": []
  }
 ],
 "metadata": {
  "kernelspec": {
   "display_name": "Python 3 (ipykernel)",
   "language": "python",
   "name": "python3"
  },
  "language_info": {
   "codemirror_mode": {
    "name": "ipython",
    "version": 3
   },
   "file_extension": ".py",
   "mimetype": "text/x-python",
   "name": "python",
   "nbconvert_exporter": "python",
   "pygments_lexer": "ipython3",
   "version": "3.8.16"
  }
 },
 "nbformat": 4,
 "nbformat_minor": 2
}
